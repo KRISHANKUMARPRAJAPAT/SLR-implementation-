{
 "cells": [
  {
   "cell_type": "markdown",
   "id": "41294e36-db67-4d21-a0ce-43f945ade0b6",
   "metadata": {},
   "source": [
    "# Simple linear Regression(SLR)"
   ]
  },
  {
   "cell_type": "markdown",
   "id": "d3234dea-dff6-4180-96dd-a5d657c175bc",
   "metadata": {},
   "source": [
    "# Do to list:\n",
    "1. Read the dataset\n",
    "2. perform EDA and feature engineering \n",
    "3. divide our dataset into independent and dependent features\n",
    "4. Further decide the dataset into train and test\n",
    "5. Standard scalling on the train and test data\n",
    "6. Model Training"
   ]
  },
  {
   "cell_type": "code",
   "execution_count": 1,
   "id": "39a26919-feb6-468c-b52b-058bb47ac731",
   "metadata": {},
   "outputs": [],
   "source": [
    "import pandas as pd \n",
    "import matplotlib.pyplot as plt \n",
    "import numpy as np \n",
    "%matplotlib inline"
   ]
  },
  {
   "cell_type": "code",
   "execution_count": 2,
   "id": "76a10899-bd34-4fcd-a5f5-4d8fd08fe0d6",
   "metadata": {},
   "outputs": [
    {
     "data": {
      "text/html": [
       "<div>\n",
       "<style scoped>\n",
       "    .dataframe tbody tr th:only-of-type {\n",
       "        vertical-align: middle;\n",
       "    }\n",
       "\n",
       "    .dataframe tbody tr th {\n",
       "        vertical-align: top;\n",
       "    }\n",
       "\n",
       "    .dataframe thead th {\n",
       "        text-align: right;\n",
       "    }\n",
       "</style>\n",
       "<table border=\"1\" class=\"dataframe\">\n",
       "  <thead>\n",
       "    <tr style=\"text-align: right;\">\n",
       "      <th></th>\n",
       "      <th>Weight</th>\n",
       "      <th>Height</th>\n",
       "    </tr>\n",
       "  </thead>\n",
       "  <tbody>\n",
       "    <tr>\n",
       "      <th>0</th>\n",
       "      <td>45</td>\n",
       "      <td>120</td>\n",
       "    </tr>\n",
       "    <tr>\n",
       "      <th>1</th>\n",
       "      <td>58</td>\n",
       "      <td>135</td>\n",
       "    </tr>\n",
       "    <tr>\n",
       "      <th>2</th>\n",
       "      <td>48</td>\n",
       "      <td>123</td>\n",
       "    </tr>\n",
       "    <tr>\n",
       "      <th>3</th>\n",
       "      <td>60</td>\n",
       "      <td>145</td>\n",
       "    </tr>\n",
       "    <tr>\n",
       "      <th>4</th>\n",
       "      <td>70</td>\n",
       "      <td>160</td>\n",
       "    </tr>\n",
       "  </tbody>\n",
       "</table>\n",
       "</div>"
      ],
      "text/plain": [
       "   Weight  Height\n",
       "0      45     120\n",
       "1      58     135\n",
       "2      48     123\n",
       "3      60     145\n",
       "4      70     160"
      ]
     },
     "execution_count": 2,
     "metadata": {},
     "output_type": "execute_result"
    }
   ],
   "source": [
    "# Read the data set: \n",
    "df = pd.read_csv('height-weight.csv')\n",
    "df.head()"
   ]
  },
  {
   "cell_type": "code",
   "execution_count": 3,
   "id": "ea0629bd-1c08-48ea-9d94-15c234716b11",
   "metadata": {},
   "outputs": [
    {
     "name": "stdout",
     "output_type": "stream",
     "text": [
      "jsk\n"
     ]
    }
   ],
   "source": [
    "'''\n",
    "Our goal is to find the best fit line through simple linear regression.\n",
    "why SLR beacuse there is one deoendes and one independent feature is present.\n",
    "'''\n",
    "print('jsk')"
   ]
  },
  {
   "cell_type": "code",
   "execution_count": 4,
   "id": "c87a294e-216e-4b94-8778-9e9f22bc9586",
   "metadata": {},
   "outputs": [
    {
     "data": {
      "image/png": "[encoded data removed]",
      "text/plain": [
       "<Figure size 640x480 with 1 Axes>"
      ]
     },
     "metadata": {},
     "output_type": "display_data"
    }
   ],
   "source": [
    "# ploting the scater plot on the data \n",
    "plt.scatter(df['Weight'], df['Height'])\n",
    "plt.xlabel('Weight')\n",
    "plt.ylabel('Height')\n",
    "plt.show()"
   ]
  },
  {
   "cell_type": "code",
   "execution_count": 5,
   "id": "6b633dc2-9a5e-4c37-8a3a-15c1733c17b2",
   "metadata": {},
   "outputs": [
    {
     "name": "stdout",
     "output_type": "stream",
     "text": [
      "<class 'pandas.core.frame.DataFrame'>\n",
      "RangeIndex: 23 entries, 0 to 22\n",
      "Data columns (total 2 columns):\n",
      " #   Column  Non-Null Count  Dtype\n",
      "---  ------  --------------  -----\n",
      " 0   Weight  23 non-null     int64\n",
      " 1   Height  23 non-null     int64\n",
      "dtypes: int64(2)\n",
      "memory usage: 496.0 bytes\n"
     ]
    }
   ],
   "source": [
    "# looking the info()\n",
    "df.info()"
   ]
  },
  {
   "cell_type": "code",
   "execution_count": 6,
   "id": "708e145d-d572-4164-8cd2-098a8f244cf0",
   "metadata": {},
   "outputs": [
    {
     "data": {
      "text/html": [
       "<div>\n",
       "<style scoped>\n",
       "    .dataframe tbody tr th:only-of-type {\n",
       "        vertical-align: middle;\n",
       "    }\n",
       "\n",
       "    .dataframe tbody tr th {\n",
       "        vertical-align: top;\n",
       "    }\n",
       "\n",
       "    .dataframe thead th {\n",
       "        text-align: right;\n",
       "    }\n",
       "</style>\n",
       "<table border=\"1\" class=\"dataframe\">\n",
       "  <thead>\n",
       "    <tr style=\"text-align: right;\">\n",
       "      <th></th>\n",
       "      <th>Weight</th>\n",
       "      <th>Height</th>\n",
       "    </tr>\n",
       "  </thead>\n",
       "  <tbody>\n",
       "    <tr>\n",
       "      <th>count</th>\n",
       "      <td>23.000000</td>\n",
       "      <td>23.000000</td>\n",
       "    </tr>\n",
       "    <tr>\n",
       "      <th>mean</th>\n",
       "      <td>73.826087</td>\n",
       "      <td>158.391304</td>\n",
       "    </tr>\n",
       "    <tr>\n",
       "      <th>std</th>\n",
       "      <td>17.872407</td>\n",
       "      <td>19.511626</td>\n",
       "    </tr>\n",
       "    <tr>\n",
       "      <th>min</th>\n",
       "      <td>45.000000</td>\n",
       "      <td>120.000000</td>\n",
       "    </tr>\n",
       "    <tr>\n",
       "      <th>25%</th>\n",
       "      <td>59.000000</td>\n",
       "      <td>142.500000</td>\n",
       "    </tr>\n",
       "    <tr>\n",
       "      <th>50%</th>\n",
       "      <td>78.000000</td>\n",
       "      <td>162.000000</td>\n",
       "    </tr>\n",
       "    <tr>\n",
       "      <th>75%</th>\n",
       "      <td>86.000000</td>\n",
       "      <td>175.000000</td>\n",
       "    </tr>\n",
       "    <tr>\n",
       "      <th>max</th>\n",
       "      <td>105.000000</td>\n",
       "      <td>183.000000</td>\n",
       "    </tr>\n",
       "  </tbody>\n",
       "</table>\n",
       "</div>"
      ],
      "text/plain": [
       "           Weight      Height\n",
       "count   23.000000   23.000000\n",
       "mean    73.826087  158.391304\n",
       "std     17.872407   19.511626\n",
       "min     45.000000  120.000000\n",
       "25%     59.000000  142.500000\n",
       "50%     78.000000  162.000000\n",
       "75%     86.000000  175.000000\n",
       "max    105.000000  183.000000"
      ]
     },
     "execution_count": 6,
     "metadata": {},
     "output_type": "execute_result"
    }
   ],
   "source": [
    "df.describe()"
   ]
  },
  {
   "cell_type": "code",
   "execution_count": 7,
   "id": "4bb867ca-c241-469b-b835-90e7ae068677",
   "metadata": {},
   "outputs": [
    {
     "data": {
      "text/plain": [
       "Weight    0\n",
       "Height    0\n",
       "dtype: int64"
      ]
     },
     "execution_count": 7,
     "metadata": {},
     "output_type": "execute_result"
    }
   ],
   "source": [
    "# checking the missing values:\n",
    "df.isnull().sum()"
   ]
  },
  {
   "cell_type": "code",
   "execution_count": null,
   "id": "f41b9623-f675-4347-903f-83ffb8ebae8f",
   "metadata": {},
   "outputs": [],
   "source": []
  },
  {
   "cell_type": "markdown",
   "id": "a56143cc-aa14-490b-bc5b-2d2133b46de0",
   "metadata": {},
   "source": [
    "# divide out dataset into independent and dependent features\n"
   ]
  },
  {
   "cell_type": "code",
   "execution_count": 8,
   "id": "518afb98-ce05-4f0f-a94c-b26c9ae70817",
   "metadata": {},
   "outputs": [],
   "source": [
    "x = df[['Weight']]          # independent features[ double braket becoz it will be colomn in the plot ]\n",
    "y = df['Height']           # dependent features [single bracket becoz it will be seris in the plot ]"
   ]
  },
  {
   "cell_type": "code",
   "execution_count": 9,
   "id": "86605a11-91ba-4fb0-8447-a75130b743a6",
   "metadata": {},
   "outputs": [
    {
     "data": {
      "text/plain": [
       "((23, 1), (23,))"
      ]
     },
     "execution_count": 9,
     "metadata": {},
     "output_type": "execute_result"
    }
   ],
   "source": [
    "# shape of the data \n",
    "x.shape, y.shape"
   ]
  },
  {
   "cell_type": "code",
   "execution_count": null,
   "id": "89a86f4c-92da-4538-b6a8-52aa963fe475",
   "metadata": {},
   "outputs": [],
   "source": []
  },
  {
   "cell_type": "markdown",
   "id": "8511788d-d7ac-494e-a7a5-3d8591c807ae",
   "metadata": {},
   "source": [
    "# 4.Further decide the dataset into train and test"
   ]
  },
  {
   "cell_type": "code",
   "execution_count": 10,
   "id": "7fba17f8-fbc8-4073-a850-c9dfd5f444e5",
   "metadata": {},
   "outputs": [],
   "source": [
    "# importing the sklearn library to train and test the dataset\n",
    "from sklearn.model_selection import train_test_split"
   ]
  },
  {
   "cell_type": "code",
   "execution_count": 11,
   "id": "fae355d3-e123-4daa-9177-8a416b0cd5e4",
   "metadata": {},
   "outputs": [],
   "source": [
    "# calling the train and test library.\n",
    "x_train, x_test , y_train , y_test = train_test_split(x,y , test_size=0.20, random_state= 42)"
   ]
  },
  {
   "cell_type": "code",
   "execution_count": 12,
   "id": "4044c591-46fb-4d74-b3b6-7a6619699f07",
   "metadata": {},
   "outputs": [
    {
     "data": {
      "text/plain": [
       "((18, 1), (5, 1))"
      ]
     },
     "execution_count": 12,
     "metadata": {},
     "output_type": "execute_result"
    }
   ],
   "source": [
    "# how much data present in traing and test dataset:\n",
    "x_train.shape, x_test.shape"
   ]
  },
  {
   "cell_type": "code",
   "execution_count": 13,
   "id": "eccae3ab-ee1d-4122-b2cb-c4a7bf05bb9d",
   "metadata": {},
   "outputs": [
    {
     "data": {
      "text/plain": [
       "((18,), (5,))"
      ]
     },
     "execution_count": 13,
     "metadata": {},
     "output_type": "execute_result"
    }
   ],
   "source": [
    "# output of x_train and x_test dataset:\n",
    "y_train.shape, y_test.shape"
   ]
  },
  {
   "cell_type": "code",
   "execution_count": null,
   "id": "057d429d-7b18-484c-a807-3e5d4e980c4e",
   "metadata": {},
   "outputs": [],
   "source": []
  },
  {
   "cell_type": "markdown",
   "id": "340d1866-091a-4346-9e6b-ab22ac611bd6",
   "metadata": {},
   "source": [
    "# 5. Standard scalling on the train and test data"
   ]
  },
  {
   "cell_type": "markdown",
   "id": "76f2232e-73c1-4a50-a23b-a2966a74a972",
   "metadata": {},
   "source": [
    "why we using standard scalling because our Aim is to make fastly optimise the convergence algoritham so that he reach the global minima as soon as possible."
   ]
  },
  {
   "cell_type": "code",
   "execution_count": 14,
   "id": "87879054-85cd-4ba4-ab60-e3a92e571935",
   "metadata": {},
   "outputs": [],
   "source": [
    "# importing the standard scaller form the sk learn \n",
    "from sklearn.preprocessing import StandardScaler"
   ]
  },
  {
   "cell_type": "code",
   "execution_count": 15,
   "id": "335ac917-0011-4a3b-b9e6-768241f0908f",
   "metadata": {},
   "outputs": [],
   "source": [
    "# making the obeject of standardscaler:\n",
    "scaler = StandardScaler()"
   ]
  },
  {
   "cell_type": "code",
   "execution_count": 16,
   "id": "248859e0-4347-441d-852a-42b18fa78ee2",
   "metadata": {},
   "outputs": [],
   "source": [
    "# applying standard scalling on x-train data set:\n",
    "x_train = scaler.fit_transform(x_train)"
   ]
  },
  {
   "cell_type": "code",
   "execution_count": 17,
   "id": "62ae9376-cfc6-4fcc-adc7-ff2cc25450bd",
   "metadata": {},
   "outputs": [
    {
     "data": {
      "text/plain": [
       "array([[ 1.73689094],\n",
       "       [-0.92026952],\n",
       "       [ 1.4542143 ],\n",
       "       [ 0.21043706],\n",
       "       [-1.48562281],\n",
       "       [ 1.17153765],\n",
       "       [-1.6552288 ],\n",
       "       [-0.80719886],\n",
       "       [-0.24184557],\n",
       "       [ 0.0973664 ],\n",
       "       [-1.37255215],\n",
       "       [-1.03334018],\n",
       "       [-0.12877492],\n",
       "       [ 0.88886101],\n",
       "       [ 0.43657837],\n",
       "       [ 0.60618436],\n",
       "       [ 0.71925502],\n",
       "       [ 0.32350772]])"
      ]
     },
     "execution_count": 17,
     "metadata": {},
     "output_type": "execute_result"
    }
   ],
   "source": [
    "x_train             # scalled values"
   ]
  },
  {
   "cell_type": "code",
   "execution_count": 18,
   "id": "0a788723-bf55-45bf-ba42-24070ad5331d",
   "metadata": {},
   "outputs": [],
   "source": [
    "# applying standard scalling on x-test dataset:\n",
    "x_test = scaler.transform(x_test)"
   ]
  },
  {
   "cell_type": "code",
   "execution_count": 19,
   "id": "f89732d4-33b1-4d66-881f-1d154b1ee4a9",
   "metadata": {},
   "outputs": [
    {
     "data": {
      "text/plain": [
       "array([[ 0.21043706],\n",
       "       [ 0.21043706],\n",
       "       [-1.6552288 ],\n",
       "       [ 1.17153765],\n",
       "       [-0.52452222]])"
      ]
     },
     "execution_count": 19,
     "metadata": {},
     "output_type": "execute_result"
    }
   ],
   "source": [
    "x_test   # scalled values for x-test"
   ]
  },
  {
   "cell_type": "code",
   "execution_count": null,
   "id": "5911ed5f-e9e5-4399-acb3-d58fe5518489",
   "metadata": {},
   "outputs": [],
   "source": []
  },
  {
   "cell_type": "markdown",
   "id": "78ef367a-c3a6-48a2-8e0d-602811a26358",
   "metadata": {},
   "source": [
    "**# Note:** we only apply standard scalling on x variable this is our input  variable:\n",
    "    we don't appy on y variable because that is output variable."
   ]
  },
  {
   "cell_type": "code",
   "execution_count": 20,
   "id": "a6e3e584-0f6e-4821-aa92-544544352cbd",
   "metadata": {},
   "outputs": [
    {
     "data": {
      "text/plain": [
       "<matplotlib.collections.PathCollection at 0x7ff1fb529060>"
      ]
     },
     "execution_count": 20,
     "metadata": {},
     "output_type": "execute_result"
    },
    {
     "data": {
      "image/png": "[encoded data removed]",
      "text/plain": [
       "<Figure size 640x480 with 1 Axes>"
      ]
     },
     "metadata": {},
     "output_type": "display_data"
    }
   ],
   "source": [
    "# scatter the x-train and y train after standard saclling:\n",
    "plt.scatter(x_train, y_train)"
   ]
  },
  {
   "cell_type": "code",
   "execution_count": null,
   "id": "628a3486-7b17-4679-b7de-3a8a45c9c124",
   "metadata": {},
   "outputs": [],
   "source": []
  },
  {
   "cell_type": "code",
   "execution_count": 21,
   "id": "07360b4c-a76c-4e5d-8657-ae61cd83c306",
   "metadata": {},
   "outputs": [
    {
     "name": "stderr",
     "output_type": "stream",
     "text": [
      "/opt/conda/lib/python3.10/site-packages/sklearn/base.py:409: UserWarning: X does not have valid feature names, but StandardScaler was fitted with feature names\n",
      "  warnings.warn(\n"
     ]
    },
    {
     "data": {
      "text/plain": [
       "array([[-3.18168268]])"
      ]
     },
     "execution_count": 21,
     "metadata": {},
     "output_type": "execute_result"
    }
   ],
   "source": [
    "# if case we want to add some other input variavle in the scalling then we should do:\n",
    "scaler.transform([[18]])                  # these variable added "
   ]
  },
  {
   "cell_type": "code",
   "execution_count": null,
   "id": "a22ae2de-4908-4154-a17c-3a5cd3681280",
   "metadata": {},
   "outputs": [],
   "source": []
  },
  {
   "cell_type": "code",
   "execution_count": null,
   "id": "82dd115b-fd5c-4c67-9d98-effb7e68d204",
   "metadata": {},
   "outputs": [],
   "source": []
  },
  {
   "cell_type": "markdown",
   "id": "7f8adeb0-0b50-4ae7-a8e6-4705470b55b1",
   "metadata": {},
   "source": [
    "# 6. Model Training"
   ]
  },
  {
   "cell_type": "code",
   "execution_count": 22,
   "id": "a047b498-f43d-451d-b6c2-25feda166b2e",
   "metadata": {},
   "outputs": [],
   "source": [
    "# importing the linear regression from sklearn\n",
    "\n",
    "from sklearn.linear_model import LinearRegression"
   ]
  },
  {
   "cell_type": "code",
   "execution_count": 23,
   "id": "9ed9be80-4047-4b86-bd59-8048c5ee7566",
   "metadata": {},
   "outputs": [],
   "source": [
    "# 6.1 creating the obj to inlisize the model\n",
    "regressor = LinearRegression()"
   ]
  },
  {
   "cell_type": "code",
   "execution_count": 24,
   "id": "a801ac34-95fb-4e5b-a43d-aa2a75868b54",
   "metadata": {},
   "outputs": [
    {
     "data": {
      "text/html": [
       "<style>#sk-container-id-1 {color: black;background-color: white;}#sk-container-id-1 pre{padding: 0;}#sk-container-id-1 div.sk-toggleable {background-color: white;}#sk-container-id-1 label.sk-toggleable__label {cursor: pointer;display: block;width: 100%;margin-bottom: 0;padding: 0.3em;box-sizing: border-box;text-align: center;}#sk-container-id-1 label.sk-toggleable__label-arrow:before {content: \"▸\";float: left;margin-right: 0.25em;color: #696969;}#sk-container-id-1 label.sk-toggleable__label-arrow:hover:before {color: black;}#sk-container-id-1 div.sk-estimator:hover label.sk-toggleable__label-arrow:before {color: black;}#sk-container-id-1 div.sk-toggleable__content {max-height: 0;max-width: 0;overflow: hidden;text-align: left;background-color: #f0f8ff;}#sk-container-id-1 div.sk-toggleable__content pre {margin: 0.2em;color: black;border-radius: 0.25em;background-color: #f0f8ff;}#sk-container-id-1 input.sk-toggleable__control:checked~div.sk-toggleable__content {max-height: 200px;max-width: 100%;overflow: auto;}#sk-container-id-1 input.sk-toggleable__control:checked~label.sk-toggleable__label-arrow:before {content: \"▾\";}#sk-container-id-1 div.sk-estimator input.sk-toggleable__control:checked~label.sk-toggleable__label {background-color: #d4ebff;}#sk-container-id-1 div.sk-label input.sk-toggleable__control:checked~label.sk-toggleable__label {background-color: #d4ebff;}#sk-container-id-1 input.sk-hidden--visually {border: 0;clip: rect(1px 1px 1px 1px);clip: rect(1px, 1px, 1px, 1px);height: 1px;margin: -1px;overflow: hidden;padding: 0;position: absolute;width: 1px;}#sk-container-id-1 div.sk-estimator {font-family: monospace;background-color: #f0f8ff;border: 1px dotted black;border-radius: 0.25em;box-sizing: border-box;margin-bottom: 0.5em;}#sk-container-id-1 div.sk-estimator:hover {background-color: #d4ebff;}#sk-container-id-1 div.sk-parallel-item::after {content: \"\";width: 100%;border-bottom: 1px solid gray;flex-grow: 1;}#sk-container-id-1 div.sk-label:hover label.sk-toggleable__label {background-color: #d4ebff;}#sk-container-id-1 div.sk-serial::before {content: \"\";position: absolute;border-left: 1px solid gray;box-sizing: border-box;top: 0;bottom: 0;left: 50%;z-index: 0;}#sk-container-id-1 div.sk-serial {display: flex;flex-direction: column;align-items: center;background-color: white;padding-right: 0.2em;padding-left: 0.2em;position: relative;}#sk-container-id-1 div.sk-item {position: relative;z-index: 1;}#sk-container-id-1 div.sk-parallel {display: flex;align-items: stretch;justify-content: center;background-color: white;position: relative;}#sk-container-id-1 div.sk-item::before, #sk-container-id-1 div.sk-parallel-item::before {content: \"\";position: absolute;border-left: 1px solid gray;box-sizing: border-box;top: 0;bottom: 0;left: 50%;z-index: -1;}#sk-container-id-1 div.sk-parallel-item {display: flex;flex-direction: column;z-index: 1;position: relative;background-color: white;}#sk-container-id-1 div.sk-parallel-item:first-child::after {align-self: flex-end;width: 50%;}#sk-container-id-1 div.sk-parallel-item:last-child::after {align-self: flex-start;width: 50%;}#sk-container-id-1 div.sk-parallel-item:only-child::after {width: 0;}#sk-container-id-1 div.sk-dashed-wrapped {border: 1px dashed gray;margin: 0 0.4em 0.5em 0.4em;box-sizing: border-box;padding-bottom: 0.4em;background-color: white;}#sk-container-id-1 div.sk-label label {font-family: monospace;font-weight: bold;display: inline-block;line-height: 1.2em;}#sk-container-id-1 div.sk-label-container {text-align: center;}#sk-container-id-1 div.sk-container {/* jupyter's `normalize.less` sets `[hidden] { display: none; }` but bootstrap.min.css set `[hidden] { display: none !important; }` so we also need the `!important` here to be able to override the default hidden behavior on the sphinx rendered scikit-learn.org. See: https://github.com/scikit-learn/scikit-learn/issues/21755 */display: inline-block !important;position: relative;}#sk-container-id-1 div.sk-text-repr-fallback {display: none;}</style><div id=\"sk-container-id-1\" class=\"sk-top-container\"><div class=\"sk-text-repr-fallback\"><pre>LinearRegression()</pre><b>In a Jupyter environment, please rerun this cell to show the HTML representation or trust the notebook. <br />On GitHub, the HTML representation is unable to render, please try loading this page with nbviewer.org.</b></div><div class=\"sk-container\" hidden><div class=\"sk-item\"><div class=\"sk-estimator sk-toggleable\"><input class=\"sk-toggleable__control sk-hidden--visually\" id=\"sk-estimator-id-1\" type=\"checkbox\" checked><label for=\"sk-estimator-id-1\" class=\"sk-toggleable__label sk-toggleable__label-arrow\">LinearRegression</label><div class=\"sk-toggleable__content\"><pre>LinearRegression()</pre></div></div></div></div></div>"
      ],
      "text/plain": [
       "LinearRegression()"
      ]
     },
     "execution_count": 24,
     "metadata": {},
     "output_type": "execute_result"
    }
   ],
   "source": [
    "#6.2 training the trian dataset\n",
    "regressor.fit(x_train, y_train)"
   ]
  },
  {
   "cell_type": "code",
   "execution_count": 25,
   "id": "33105108-3f93-4b05-b445-003f84999b29",
   "metadata": {},
   "outputs": [
    {
     "data": {
      "text/plain": [
       "157.5"
      ]
     },
     "execution_count": 25,
     "metadata": {},
     "output_type": "execute_result"
    }
   ],
   "source": [
    "# 6.3 intercept of regression model \n",
    "regressor.intercept_"
   ]
  },
  {
   "cell_type": "code",
   "execution_count": 26,
   "id": "33728b82-4d26-43e2-ab29-8a589d1530c4",
   "metadata": {},
   "outputs": [
    {
     "data": {
      "text/plain": [
       "array([17.03440872])"
      ]
     },
     "execution_count": 26,
     "metadata": {},
     "output_type": "execute_result"
    }
   ],
   "source": [
    "# 6.4 coefficeint of slope of regression model \n",
    "regressor.coef_"
   ]
  },
  {
   "cell_type": "code",
   "execution_count": 27,
   "id": "e38be5df-11e4-4796-a58b-fd58359559a3",
   "metadata": {},
   "outputs": [
    {
     "data": {
      "text/plain": [
       "[<matplotlib.lines.Line2D at 0x7ff1fac831c0>]"
      ]
     },
     "execution_count": 27,
     "metadata": {},
     "output_type": "execute_result"
    },
    {
     "data": {
      "image/png": "[encoded data removed]",
      "text/plain": [
       "<Figure size 640x480 with 1 Axes>"
      ]
     },
     "metadata": {},
     "output_type": "display_data"
    }
   ],
   "source": [
    "# 6.5 to see the best fit line in scater plot ;\n",
    "plt.scatter(x_train ,y_train)\n",
    "\n",
    "# for calling the best fit line\n",
    "plt.scatter(x_train, regressor.predict(x_train))                 # for doted point\n",
    "\n",
    "plt.plot(x_train, regressor.predict(x_train),'r')                        # for doted point with best fit line"
   ]
  },
  {
   "cell_type": "markdown",
   "id": "7586ac8a-8991-417c-8aa7-db08b4c3b96e",
   "metadata": {},
   "source": [
    "# prediction of train data:\n",
    "1. predicted height output = intercept + coef_(weight)\n",
    "2. y_pred_train = 157.5 + 17.03 (x_train)\n",
    "\n",
    "# prediction of test data \n",
    "1. predicted height output = intercept + coef_(weight)\n",
    "2. y_pred_test = 157.5 + 17.03(x_test)"
   ]
  },
  {
   "cell_type": "code",
   "execution_count": 28,
   "id": "b7616da6-c38a-4d6b-b64b-e67d9fc4ee8e",
   "metadata": {},
   "outputs": [
    {
     "data": {
      "text/plain": [
       "array([161.08467086, 161.08467086, 129.3041561 , 177.45645118,\n",
       "       148.56507414])"
      ]
     },
     "execution_count": 28,
     "metadata": {},
     "output_type": "execute_result"
    }
   ],
   "source": [
    "# 6.6. Prediction for the test data \"\n",
    "y_pred_test = regressor.predict(x_test)\n",
    "y_pred_test              # y_predicted test data "
   ]
  },
  {
   "cell_type": "code",
   "execution_count": 29,
   "id": "609879f5-5314-404c-bc7e-3d9a23f9b25a",
   "metadata": {},
   "outputs": [
    {
     "data": {
      "text/plain": [
       "15    177\n",
       "9     170\n",
       "0     120\n",
       "8     182\n",
       "17    159\n",
       "Name: Height, dtype: int64"
      ]
     },
     "execution_count": 29,
     "metadata": {},
     "output_type": "execute_result"
    }
   ],
   "source": [
    "# original y_test data \n",
    "y_test"
   ]
  },
  {
   "cell_type": "markdown",
   "id": "95d7ae36-3060-4365-93d3-2bcc952e5024",
   "metadata": {},
   "source": [
    "# 6.7 To checking the accuracy of the prediction we using performance matrix :\n",
    " Performance matrix = MSE,MAE,RMSE"
   ]
  },
  {
   "cell_type": "code",
   "execution_count": 30,
   "id": "17a14003-66c3-498f-9976-c531935c6e20",
   "metadata": {},
   "outputs": [],
   "source": [
    "# USING MSE it calculating the error in prediction and give us \n",
    "# importing the MSE ,MAE form sklearn \n",
    "from sklearn.metrics import mean_squared_error, mean_absolute_error"
   ]
  },
  {
   "cell_type": "code",
   "execution_count": 31,
   "id": "25c63bce-b402-465d-8f4d-7b12b1957b9f",
   "metadata": {},
   "outputs": [
    {
     "name": "stdout",
     "output_type": "stream",
     "text": [
      "109.77592599051664\n",
      "9.822657814519232\n",
      "10.477400726827081\n"
     ]
    }
   ],
   "source": [
    "mse = mean_squared_error(y_test, y_pred_test)\n",
    "mae = mean_absolute_error(y_test, y_pred_test)\n",
    "rmse = np.sqrt(mse)\n",
    "\n",
    "print(mse)\n",
    "print(mae)\n",
    "print(rmse)"
   ]
  },
  {
   "cell_type": "markdown",
   "id": "5af8fd70-c706-4e22-85a4-5b74df16e2fc",
   "metadata": {},
   "source": [
    "# 6.8 checking the accuracy of the model using R-squard and Ajusted r-squard\n",
    "\n",
    "formula : \n",
    "    **R^2 = 1- SSR/SST**\n",
    "    \n",
    "- R^2 = accuracy of the model\n",
    "- SSR = sum of square of residuals(slop)\n",
    "- SST = total sum of square"
   ]
  },
  {
   "cell_type": "code",
   "execution_count": 32,
   "id": "19cc9fb1-1b33-427b-8493-b336ea5bd373",
   "metadata": {},
   "outputs": [],
   "source": [
    "# importing the r-square form sklearn \n",
    "from sklearn.metrics import r2_score"
   ]
  },
  {
   "cell_type": "code",
   "execution_count": 33,
   "id": "49226808-f8ba-4763-a7ad-40ed2c57e339",
   "metadata": {},
   "outputs": [
    {
     "data": {
      "text/plain": [
       "0.776986986042344"
      ]
     },
     "execution_count": 33,
     "metadata": {},
     "output_type": "execute_result"
    }
   ],
   "source": [
    "score = r2_score(y_test, y_pred_test)\n",
    "score            # accuracy of the model"
   ]
  },
  {
   "cell_type": "code",
   "execution_count": null,
   "id": "90a2ff0c-0141-40cb-b9c2-1de7c8228eae",
   "metadata": {},
   "outputs": [],
   "source": []
  },
  {
   "cell_type": "markdown",
   "id": "eaabd407-ab02-4d07-a49e-0a6f6624bb05",
   "metadata": {},
   "source": [
    "# Adjusted r- square \n",
    "\n",
    "formula : \n",
    "    \n",
    " **Adjusted R^2 = 1- [(1-R^2) * (n-1) / (n-k-1)]**\n",
    "    \n",
    "where: \n",
    "- R^2 = the r-square of the model \n",
    " - n = the number of observations\n",
    "  - k = the number of predictor variables "
   ]
  },
  {
   "cell_type": "code",
   "execution_count": 34,
   "id": "bf709ecc-fe59-4f6a-8e96-81acfa35d20e",
   "metadata": {},
   "outputs": [
    {
     "data": {
      "text/plain": [
       "0.6283116434039066"
      ]
     },
     "execution_count": 34,
     "metadata": {},
     "output_type": "execute_result"
    }
   ],
   "source": [
    "# display adjusted r- squared \n",
    "1 - (1-score)* (len(y_test-1)/ (len(y_test)- x_test.shape[1]- 1))"
   ]
  },
  {
   "cell_type": "markdown",
   "id": "e364bec7-ba5e-4ccf-b5c6-baf64ee48ac2",
   "metadata": {},
   "source": [
    "# In this simple linear regression we create two model \n",
    "\n",
    "- 1. scaler\n",
    "- 2.regressor "
   ]
  },
  {
   "cell_type": "code",
   "execution_count": null,
   "id": "1a6744c9-5a50-4825-a289-ae1711233b65",
   "metadata": {},
   "outputs": [],
   "source": []
  }
 ],
 "metadata": {
  "kernelspec": {
   "display_name": "Python 3 (ipykernel)",
   "language": "python",
   "name": "python3"
  },
  "language_info": {
   "codemirror_mode": {
    "name": "ipython",
    "version": 3
   },
   "file_extension": ".py",
   "mimetype": "text/x-python",
   "name": "python",
   "nbconvert_exporter": "python",
   "pygments_lexer": "ipython3",
   "version": "3.10.8"
  }
 },
 "nbformat": 4,
 "nbformat_minor": 5
}
